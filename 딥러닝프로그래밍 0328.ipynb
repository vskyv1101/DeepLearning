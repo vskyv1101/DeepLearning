{
 "cells": [
  {
   "cell_type": "code",
   "execution_count": 3,
   "id": "48e66f80",
   "metadata": {},
   "outputs": [
    {
     "name": "stdout",
     "output_type": "stream",
     "text": [
      "공부 시간 :  [2 4 6 8]\n",
      "시험 성적 :  [81 93 91 97]\n"
     ]
    }
   ],
   "source": [
    "import numpy as np\n",
    "#y= ax + b\n",
    "\n",
    "fake_a = 3\n",
    "fake_b = 76\n",
    "\n",
    "x = np.array([2,4,6,8]) #공부 시간\n",
    "y = np.array([81,93,91,97]) #시험 성적\n",
    "\n",
    "print('공부 시간 : ', x )\n",
    "print('시험 성적 : ', y )"
   ]
  },
  {
   "cell_type": "code",
   "execution_count": 6,
   "id": "b3631685",
   "metadata": {},
   "outputs": [
    {
     "name": "stdout",
     "output_type": "stream",
     "text": [
      "공부 시간 :  2 , 실제 점수 :  81 , 예측 점수 :  82\n",
      "공부 시간 :  4 , 실제 점수 :  93 , 예측 점수 :  88\n",
      "공부 시간 :  6 , 실제 점수 :  91 , 예측 점수 :  94\n",
      "공부 시간 :  8 , 실제 점수 :  97 , 예측 점수 :  100\n"
     ]
    }
   ],
   "source": [
    "y_pred = []\n",
    "\n",
    "for i in range(4):\n",
    "    #y= a *x + b\n",
    "    y_pred.append(fake_a * x[i] + fake_b)\n",
    "    \n",
    "    print(\"공부 시간 : \", x[i], \", 실제 점수 : \", y[i], \", 예측 점수 : \", y_pred[i])"
   ]
  },
  {
   "cell_type": "code",
   "execution_count": 11,
   "id": "73e150aa",
   "metadata": {},
   "outputs": [
    {
     "name": "stdout",
     "output_type": "stream",
     "text": [
      "실제 점수 :  [2 4 6 8]\n",
      "예측 점수 :  [82, 88, 94, 100]\n",
      "점수 차이 :  [-1  5 -3 -3]\n"
     ]
    }
   ],
   "source": [
    "print(\"실제 점수 : \", x)\n",
    "print(\"예측 점수 : \", y_pred)\n",
    "print(\"점수 차이 : \", y - y_pred)"
   ]
  },
  {
   "cell_type": "code",
   "execution_count": 14,
   "id": "90c441ec",
   "metadata": {
    "scrolled": false
   },
   "outputs": [
    {
     "name": "stdout",
     "output_type": "stream",
     "text": [
      "오차 제곱 :  [ 1 25  9  9]\n"
     ]
    }
   ],
   "source": [
    "print(\"오차 제곱 : \", (y - y_pred)**2)"
   ]
  },
  {
   "cell_type": "code",
   "execution_count": 15,
   "id": "2a468278",
   "metadata": {},
   "outputs": [
    {
     "name": "stdout",
     "output_type": "stream",
     "text": [
      "오차 제곱의 합 :  44\n"
     ]
    }
   ],
   "source": [
    "print(\"오차 제곱의 합 : \", sum((y-y_pred)**2))"
   ]
  },
  {
   "cell_type": "code",
   "execution_count": 16,
   "id": "6db99aca",
   "metadata": {},
   "outputs": [
    {
     "name": "stdout",
     "output_type": "stream",
     "text": [
      "평균 제곱 오차 :  11.0\n"
     ]
    }
   ],
   "source": [
    "print(\"평균 제곱 오차 : \", sum((y-y_pred)**2) / len(x))"
   ]
  },
  {
   "cell_type": "code",
   "execution_count": null,
   "id": "1ca9caae",
   "metadata": {},
   "outputs": [],
   "source": []
  },
  {
   "cell_type": "code",
   "execution_count": null,
   "id": "bceec447",
   "metadata": {},
   "outputs": [],
   "source": []
  },
  {
   "cell_type": "code",
   "execution_count": null,
   "id": "1044798c",
   "metadata": {},
   "outputs": [],
   "source": []
  }
 ],
 "metadata": {
  "kernelspec": {
   "display_name": "Python 3 (ipykernel)",
   "language": "python",
   "name": "python3"
  },
  "language_info": {
   "codemirror_mode": {
    "name": "ipython",
    "version": 3
   },
   "file_extension": ".py",
   "mimetype": "text/x-python",
   "name": "python",
   "nbconvert_exporter": "python",
   "pygments_lexer": "ipython3",
   "version": "3.9.13"
  }
 },
 "nbformat": 4,
 "nbformat_minor": 5
}
